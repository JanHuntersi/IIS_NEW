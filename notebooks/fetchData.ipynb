{
 "cells": [
  {
   "cell_type": "code",
   "execution_count": 2,
   "id": "ad1c3ea5-bb45-4caa-9aaa-2ddcafd62c86",
   "metadata": {},
   "outputs": [],
   "source": [
    "# Script for fetching data"
   ]
  },
  {
   "cell_type": "code",
   "execution_count": 47,
   "id": "a8321574-961d-49e2-b031-ed3c8b7200f8",
   "metadata": {},
   "outputs": [
    {
     "name": "stdout",
     "output_type": "stream",
     "text": [
      "C:\\Users\\Jan\\Desktop\\FERI\\IPT\\2-SEMESTER\\IIS\\vaje\\data\\raw\\mbajk_20240310_221144.csv\n",
      "Data succesfully fetched and daved to mbajk_20240310_221144.csv\n"
     ]
    }
   ],
   "source": [
    "import requests\n",
    "import csv\n",
    "import os\n",
    "from datetime import datetime\n",
    "\n",
    "URL = \"https://api.jcdecaux.com/vls/v1/stations?contract=maribor&apiKey=5e150537116dbc1786ce5bec6975a8603286526b\"\n",
    "SAVE_DIR = r'C:\\Users\\Jan\\Desktop\\FERI\\IPT\\2-SEMESTER\\IIS\\vaje\\data\\raw'\n",
    "\n",
    "def fetch_data(api_url):\n",
    "    try:\n",
    "        res = requests.get(api_url)\n",
    "        if res.status_code == 200:\n",
    "            data = res.json()\n",
    "            return data\n",
    "        else: \n",
    "            printf(f\"Error {res.status_code} - {res.text}\")\n",
    "            return None\n",
    "    except requests.RequestException as e:\n",
    "        print(f\"Error: {e}\")\n",
    "        return None\n",
    "data = fetch_data(URL)\n",
    "if data is not None:\n",
    "    curr_time = datetime.now().strftime(\"%Y%m%d_%H%M%S\")\n",
    "    filename = f\"mbajk_{curr_time}.csv\"\n",
    "    filepath = os.path.join(SAVE_DIR,filename)\n",
    "    print(filepath)\n",
    "    with open(filepath,'w',newline='', encoding='utf-8', errors='replace') as csvfile:\n",
    "        csv_writer = csv.writer(csvfile, lineterminator='\\n')\n",
    "        header = data[0].keys()\n",
    "        csv_writer.writerow(header)\n",
    "\n",
    "        for row in data:\n",
    "            csv_writer.writerow(row.values())\n",
    "        \n",
    "        print(f\"Data succesfully fetched and daved to {filename}\")\n",
    "else: \n",
    "    print(\"errror occured, data not available\")\n"
   ]
  },
  {
   "cell_type": "code",
   "execution_count": null,
   "id": "808e6d48-fbfc-4f93-8ddc-e7b5564392e1",
   "metadata": {},
   "outputs": [],
   "source": []
  }
 ],
 "metadata": {
  "kernelspec": {
   "display_name": "Python 3 (ipykernel)",
   "language": "python",
   "name": "python3"
  },
  "language_info": {
   "codemirror_mode": {
    "name": "ipython",
    "version": 3
   },
   "file_extension": ".py",
   "mimetype": "text/x-python",
   "name": "python",
   "nbconvert_exporter": "python",
   "pygments_lexer": "ipython3",
   "version": "3.10.2"
  }
 },
 "nbformat": 4,
 "nbformat_minor": 5
}
