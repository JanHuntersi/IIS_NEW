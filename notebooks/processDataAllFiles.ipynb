{
 "cells": [
  {
   "cell_type": "code",
   "execution_count": null,
   "metadata": {},
   "outputs": [],
   "source": [
    "import pandas as pd\n",
    "import os\n",
    "\n",
    "def process_and_save_data(input_folder, output_folder):\n",
    "    # Pridobimo seznam vseh datotek v vhodni mapi, ki niso že obdelane\n",
    "    files_to_process = [file for file in os.listdir(input_folder) if 'processed' not in file]\n",
    "\n",
    "    for file_to_process in files_to_process:\n",
    "        # Preberemo podatke iz CSV datoteke\n",
    "        input_csv_path = os.path.join(input_folder, file_to_process)\n",
    "        data = pd.read_csv(input_csv_path)\n",
    "\n",
    "        # Pretvorimo časovne žige v stolpcu \"last_update\" v časovni tip podatka\n",
    "        data['last_update'] = pd.to_datetime(data['last_update'], unit='ms')\n",
    "        \n",
    "        # Zaokrožimo časovne žige na urni interval\n",
    "        data['datetime'] = data['last_update'].dt.floor('H')\n",
    "\n",
    "        # Združimo podatke po postajališčih in urah\n",
    "        aggregated_data = data.groupby(['name', 'datetime']).agg({\n",
    "            'available_bikes': 'mean',\n",
    "            'available_bike_stands': 'mean'\n",
    "        }).reset_index()\n",
    "\n",
    "        # Seznam vseh postajališč\n",
    "        postajalisca = aggregated_data['name'].unique()\n",
    "\n",
    "        for postajalisce in postajalisca:\n",
    "            # Filtriramo podatke za trenutno postajališče\n",
    "            filtered_data = aggregated_data[aggregated_data['name'] == postajalisce]\n",
    "            \n",
    "            # Ime datoteke za shranjevanje podatkov\n",
    "            ime_datoteke = os.path.join(output_folder, f\"{postajalisce.replace(' ', '_')}.csv\")\n",
    "            \n",
    "            # Shranimo filtrirane podatke v CSV datoteko\n",
    "            # z načinom 'w' za pisanje, da se podatki prepišejo\n",
    "            filtered_data.to_csv(ime_datoteke, mode='w', index=False)\n",
    "\n",
    "            print(f\"Podatki za postajališče {postajalisce} so bili uspešno prepisani v datoteko {ime_datoteke}\")\n",
    "\n",
    "        # Preimenovanje datoteke, ki jo obdelamo\n",
    "        processed_file_path_renamed = os.path.join(input_folder, f\"processed_{file_to_process}\")\n",
    "        os.rename(input_csv_path, processed_file_path_renamed)\n",
    "\n",
    "        print(f\"Datoteka {file_to_process} je bila preimenovana v {processed_file_path_renamed}\")\n",
    "\n",
    "# Uporaba funkcije\n",
    "input_folder = '../data/raw/fetch_mbajk.csv'\n",
    "output_folder = '../data/processed'\n",
    "process_and_save_data(input_folder, output_folder)\n"
   ]
  }
 ],
 "metadata": {
  "language_info": {
   "name": "python"
  }
 },
 "nbformat": 4,
 "nbformat_minor": 2
}
