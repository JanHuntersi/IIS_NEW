{
 "cells": [
  {
   "cell_type": "code",
   "execution_count": 7,
   "metadata": {},
   "outputs": [],
   "source": [
    "from flask import Flask, request, jsonify\n",
    "import pandas as pd\n",
    "import joblib\n",
    "import numpy as np\n",
    "import tensorflow as tf\n",
    "from flask_cors import CORS\n",
    "from pydantic import BaseModel"
   ]
  },
  {
   "cell_type": "code",
   "execution_count": 12,
   "metadata": {},
   "outputs": [
    {
     "name": "stderr",
     "output_type": "stream",
     "text": [
      "WARNING:absl:Compiled the loaded model, but the compiled metrics have yet to be built. `model.compile_metrics` will be empty until you train or evaluate the model.\n"
     ]
    },
    {
     "name": "stdout",
     "output_type": "stream",
     "text": [
      " * Serving Flask app '__main__'\n",
      " * Debug mode: on\n"
     ]
    },
    {
     "name": "stderr",
     "output_type": "stream",
     "text": [
      "INFO:werkzeug:\u001b[31m\u001b[1mWARNING: This is a development server. Do not use it in a production deployment. Use a production WSGI server instead.\u001b[0m\n",
      " * Running on http://127.0.0.1:5000\n",
      "INFO:werkzeug:\u001b[33mPress CTRL+C to quit\u001b[0m\n",
      "INFO:werkzeug: * Restarting with stat\n"
     ]
    },
    {
     "ename": "SystemExit",
     "evalue": "1",
     "output_type": "error",
     "traceback": [
      "An exception has occurred, use %tb to see the full traceback.\n",
      "\u001b[1;31mSystemExit\u001b[0m\u001b[1;31m:\u001b[0m 1\n"
     ]
    }
   ],
   "source": [
    "minmax_scaler = joblib.load('../models/scaler.pkl')\n",
    "base_model = tf.keras.models.load_model('../models/base_data_model.h5')\n",
    "app = Flask(__name__)\n",
    "CORS(app)\n",
    "\n",
    "class BikeFeaturesRecurrent(BaseModel):\n",
    "    date:str\n",
    "    available_bike_stands:int\n",
    "\n",
    "def datetime_columns(df):\n",
    "    df['date'] = pd.to_datetime(df['date'])\n",
    "    df['day'] = df['date'].dt.day\n",
    "    df['month'] = df['date'].dt.month\n",
    "    df['year'] = df['date'].dt.year\n",
    "    df.drop(columns=['date'], inplace=True)\n",
    "    return df\n",
    "\n",
    "def bike_prediction(bike_features):\n",
    "    df = pd.DataFrame(bike_features)\n",
    "    df['date'] = pd.to_datetime(df['date'])\n",
    "    df = df.sort_values(by='date')\n",
    "\n",
    "    # Data transformation\n",
    "    target = 'available_bike_stands'\n",
    "    bikes = np.array(df[target].values.reshape(-1,1))\n",
    "    bikes = minmax_scaler.transform(bikes)\n",
    "    bikes = np.reshape(bikes, (bikes.shape[1], 1, bikes.shape[0]))\n",
    "\n",
    "    # Prediction\n",
    "    prediction = base_model.predict(bikes)\n",
    "    prediction = minmax_scaler.inverse_transform(np.array(prediction).reshape(-1,1))\n",
    "\n",
    "    return {'next prediction': prediction.tolist()}\n",
    "\n",
    "@app.route(\"/mbajk/predict\", methods=['POST'])\n",
    "def predict():\n",
    "    try:\n",
    "        bike_features = request.json\n",
    "        validate = [BikeFeaturesRecurrent(**bike_feature) for bike_feature in bike_features]\n",
    "    except:\n",
    "        return jsonify({'error': 'Bad request.'}), 400\n",
    "    res = bike_prediction(bike_features)\n",
    "    return jsonify(res)\n",
    "\n",
    "@app.route(\"/\")\n",
    "def root():\n",
    "    return jsonify({\"message\": \"Hi, welcome to the bike prediction API!\"})\n",
    "\n",
    "if __name__ == \"__main__\":\n",
    "    app.run(debug=True)"
   ]
  }
 ],
 "metadata": {
  "kernelspec": {
   "display_name": "vaje-QUn4yeEi-py3.10",
   "language": "python",
   "name": "python3"
  },
  "language_info": {
   "codemirror_mode": {
    "name": "ipython",
    "version": 3
   },
   "file_extension": ".py",
   "mimetype": "text/x-python",
   "name": "python",
   "nbconvert_exporter": "python",
   "pygments_lexer": "ipython3",
   "version": "3.10.2"
  }
 },
 "nbformat": 4,
 "nbformat_minor": 2
}
