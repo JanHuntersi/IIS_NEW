{
 "cells": [
  {
   "cell_type": "code",
   "execution_count": null,
   "metadata": {},
   "outputs": [],
   "source": [
    "import requests\n",
    "import csv\n",
    "import os\n",
    "from datetime import datetime\n",
    "\n",
    "URL = \"https://api.jcdecaux.com/vls/v1/stations?contract=maribor&apiKey=5e150537116dbc1786ce5bec6975a8603286526b\"\n",
    "SAVE_FILE = r'C:\\Users\\Jan\\Desktop\\FERI\\IPT\\2-SEMESTER\\IIS\\vaje\\data\\raw\\fetch_mbajk.csv'\n",
    "\n",
    "def fetch_data(api_url):\n",
    "    try:\n",
    "        res = requests.get(api_url)\n",
    "        if res.status_code == 200:\n",
    "            data = res.json()\n",
    "            return data\n",
    "        else: \n",
    "            print(f\"Error {res.status_code} - {res.text}\")\n",
    "            return None\n",
    "    except requests.RequestException as e:\n",
    "        print(f\"Error: {e}\")\n",
    "        return None\n",
    "\n",
    "data = fetch_data(URL)\n",
    "if data is not None:\n",
    "    with open(SAVE_FILE, 'a', newline='', encoding='utf-8',errors='replace') as csvfile:\n",
    "        csv_writer = csv.writer(csvfile, lineterminator='\\n')\n",
    "\n",
    "        if os.path.getsize(SAVE_FILE) == 0:  # Če je datoteka prazna, dodaj header\n",
    "            header = data[0].keys()\n",
    "            csv_writer.writerow(header)\n",
    "\n",
    "        for row in data:\n",
    "            csv_writer.writerow(row.values())\n",
    "        \n",
    "        print(f\"Data succesfully fetched and saved to {SAVE_FILE}\")\n",
    "else: \n",
    "    print(\"Error occurred, data not available\")\n"
   ]
  }
 ],
 "metadata": {
  "language_info": {
   "name": "python"
  }
 },
 "nbformat": 4,
 "nbformat_minor": 2
}
