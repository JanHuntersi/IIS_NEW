{
 "cells": [
  {
   "cell_type": "code",
   "execution_count": 13,
   "metadata": {},
   "outputs": [
    {
     "name": "stdout",
     "output_type": "stream",
     "text": [
      "Podatki za postajališče DVORANA TABOR so bili uspešno prepisani v datoteko ../data/processed\\DVORANA_TABOR.csv\n",
      "Podatki za postajališče EUROPARK - POBREŠKA C. so bili uspešno prepisani v datoteko ../data/processed\\EUROPARK_-_POBREŠKA_C..csv\n",
      "Podatki za postajališče GORKEGA UL. - OŠ FRANCETA PREŠERNA so bili uspešno prepisani v datoteko ../data/processed\\GORKEGA_UL._-_OŠ_FRANCETA_PREŠERNA.csv\n",
      "Podatki za postajališče GOSPOSVETSKA C. - III. GIMNAZIJA so bili uspešno prepisani v datoteko ../data/processed\\GOSPOSVETSKA_C._-_III._GIMNAZIJA.csv\n",
      "Podatki za postajališče GOSPOSVETSKA C. - TURNERJEVA UL. so bili uspešno prepisani v datoteko ../data/processed\\GOSPOSVETSKA_C._-_TURNERJEVA_UL..csv\n",
      "Podatki za postajališče GOSPOSVETSKA C. - VRBANSKA C. so bili uspešno prepisani v datoteko ../data/processed\\GOSPOSVETSKA_C._-_VRBANSKA_C..csv\n",
      "Podatki za postajališče JHMB – DVOETAŽNI MOST so bili uspešno prepisani v datoteko ../data/processed\\JHMB_–_DVOETAŽNI_MOST.csv\n",
      "Podatki za postajališče KOROŠKA C. - KOROŠKI VETER so bili uspešno prepisani v datoteko ../data/processed\\KOROŠKA_C._-_KOROŠKI_VETER.csv\n",
      "Podatki za postajališče LIDL - KOROŠKA C. so bili uspešno prepisani v datoteko ../data/processed\\LIDL_-_KOROŠKA_C..csv\n",
      "Podatki za postajališče LIDL - TITOVA C. so bili uspešno prepisani v datoteko ../data/processed\\LIDL_-_TITOVA_C..csv\n",
      "Podatki za postajališče LJUBLJANSKA UL. - FOCHEVA so bili uspešno prepisani v datoteko ../data/processed\\LJUBLJANSKA_UL._-_FOCHEVA.csv\n",
      "Podatki za postajališče LJUBLJANSKA UL. - II. GIMNAZIJA so bili uspešno prepisani v datoteko ../data/processed\\LJUBLJANSKA_UL._-_II._GIMNAZIJA.csv\n",
      "Podatki za postajališče MLADINSKA UL. - TRUBARJEVA UL. so bili uspešno prepisani v datoteko ../data/processed\\MLADINSKA_UL._-_TRUBARJEVA_UL..csv\n",
      "Podatki za postajališče MLINSKA UL . - AVTOBUSNA POSTAJA so bili uspešno prepisani v datoteko ../data/processed\\MLINSKA_UL_._-_AVTOBUSNA_POSTAJA.csv\n",
      "Podatki za postajališče NA POLJANAH - HEROJA ŠERCERJA so bili uspešno prepisani v datoteko ../data/processed\\NA_POLJANAH_-_HEROJA_ŠERCERJA.csv\n",
      "Podatki za postajališče NICEHASH - C. PROLETARSKIH BRIGAD so bili uspešno prepisani v datoteko ../data/processed\\NICEHASH_-_C._PROLETARSKIH_BRIGAD.csv\n",
      "Podatki za postajališče NKBM - TRG LEONA ŠTUKLJA so bili uspešno prepisani v datoteko ../data/processed\\NKBM_-_TRG_LEONA_ŠTUKLJA.csv\n",
      "Podatki za postajališče PARTIZANSKA C. - CANKARJEVA UL. so bili uspešno prepisani v datoteko ../data/processed\\PARTIZANSKA_C._-_CANKARJEVA_UL..csv\n",
      "Podatki za postajališče PARTIZANSKA C. - TIC so bili uspešno prepisani v datoteko ../data/processed\\PARTIZANSKA_C._-_TIC.csv\n",
      "Podatki za postajališče PARTIZANSKA C. - ŽELEZNIŠKA POSTAJA so bili uspešno prepisani v datoteko ../data/processed\\PARTIZANSKA_C._-_ŽELEZNIŠKA_POSTAJA.csv\n",
      "Podatki za postajališče PETROL – LENT – VODNI STOLP so bili uspešno prepisani v datoteko ../data/processed\\PETROL_–_LENT_–_VODNI_STOLP.csv\n",
      "Podatki za postajališče POŠTA - SLOMŠKOV TRG so bili uspešno prepisani v datoteko ../data/processed\\POŠTA_-_SLOMŠKOV_TRG.csv\n",
      "Podatki za postajališče RAZLAGOVA UL. - OBČINA so bili uspešno prepisani v datoteko ../data/processed\\RAZLAGOVA_UL._-_OBČINA.csv\n",
      "Podatki za postajališče SPAR - TRŽNICA TABOR so bili uspešno prepisani v datoteko ../data/processed\\SPAR_-_TRŽNICA_TABOR.csv\n",
      "Podatki za postajališče STROSSMAYERJEVA UL. - TRŽNICA so bili uspešno prepisani v datoteko ../data/processed\\STROSSMAYERJEVA_UL._-_TRŽNICA.csv\n",
      "Podatki za postajališče TELEMACH - GLAVNI TRG - STARI PERON so bili uspešno prepisani v datoteko ../data/processed\\TELEMACH_-_GLAVNI_TRG_-_STARI_PERON.csv\n",
      "Podatki za postajališče ULICA MOŠE PIJADA - UKC so bili uspešno prepisani v datoteko ../data/processed\\ULICA_MOŠE_PIJADA_-_UKC.csv\n",
      "Podatki za postajališče UM FGPA - LENT - SODNI STOLP so bili uspešno prepisani v datoteko ../data/processed\\UM_FGPA_-_LENT_-_SODNI_STOLP.csv\n",
      "Podatki za postajališče VZAJEMNA, VARUH ZDRAVJA - BETNAVSKA C. so bili uspešno prepisani v datoteko ../data/processed\\VZAJEMNA,_VARUH_ZDRAVJA_-_BETNAVSKA_C..csv\n"
     ]
    },
    {
     "name": "stderr",
     "output_type": "stream",
     "text": [
      "C:\\Users\\Jan\\AppData\\Local\\Temp\\ipykernel_12556\\2397788145.py:12: FutureWarning: 'H' is deprecated and will be removed in a future version, please use 'h' instead.\n",
      "  data['datetime'] = data['last_update'].dt.floor('H')\n"
     ]
    }
   ],
   "source": [
    "import pandas as pd\n",
    "import os\n",
    "\n",
    "def process_and_save_data(input_file, output_folder):\n",
    "    # Preberemo podatke iz CSV datoteke\n",
    "    data = pd.read_csv(input_file)\n",
    "\n",
    "    # Pretvorimo časovne žige v stolpcu \"last_update\" v časovni tip podatka\n",
    "    data['last_update'] = pd.to_datetime(data['last_update'], unit='ms')\n",
    "    \n",
    "    # Zaokrožimo časovne žige na urni interval\n",
    "    data['datetime'] = data['last_update'].dt.floor('H')\n",
    "\n",
    "    # Združimo podatke po postajališčih in urah\n",
    "    aggregated_data = data.groupby(['name', 'datetime']).agg({\n",
    "        'available_bikes': 'mean',\n",
    "        'available_bike_stands': 'mean'\n",
    "    }).reset_index()\n",
    "\n",
    "    # Seznam vseh postajališč\n",
    "    postajalisca = aggregated_data['name'].unique()\n",
    "\n",
    "    for postajalisce in postajalisca:\n",
    "        # Filtriramo podatke za trenutno postajališče\n",
    "        filtered_data = aggregated_data[aggregated_data['name'] == postajalisce]\n",
    "        \n",
    "        # Ime datoteke za shranjevanje podatkov\n",
    "        ime_datoteke = os.path.join(output_folder, f\"{postajalisce.replace(' ', '_')}.csv\")\n",
    "        \n",
    "        # Shranimo filtrirane podatke v CSV datoteko\n",
    "        # z načinom 'w' za pisanje, da se podatki prepišejo\n",
    "        filtered_data.to_csv(ime_datoteke, mode='w', index=False)\n",
    "\n",
    "        print(f\"Podatki za postajališče {postajalisce} so bili uspešno prepisani v datoteko {ime_datoteke}\")\n",
    "\n",
    "# Uporaba funkcije\n",
    "input_file = '../data/raw/fetch_mbajk.csv'\n",
    "output_folder = '../data/processed'\n",
    "process_and_save_data(input_file, output_folder)\n"
   ]
  },
  {
   "cell_type": "code",
   "execution_count": null,
   "metadata": {},
   "outputs": [],
   "source": []
  }
 ],
 "metadata": {
  "kernelspec": {
   "display_name": "vaje-QUn4yeEi-py3.10",
   "language": "python",
   "name": "python3"
  },
  "language_info": {
   "codemirror_mode": {
    "name": "ipython",
    "version": 3
   },
   "file_extension": ".py",
   "mimetype": "text/x-python",
   "name": "python",
   "nbconvert_exporter": "python",
   "pygments_lexer": "ipython3",
   "version": "3.10.2"
  }
 },
 "nbformat": 4,
 "nbformat_minor": 2
}
